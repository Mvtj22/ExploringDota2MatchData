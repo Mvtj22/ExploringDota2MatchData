{
 "cells": [
  {
   "cell_type": "code",
   "execution_count": 1,
   "id": "b396eef6",
   "metadata": {
    "_cell_guid": "b1076dfc-b9ad-4769-8c92-a6c4dae69d19",
    "_uuid": "8f2839f25d086af736a60e9eeb907d3b93b6e0e5",
    "execution": {
     "iopub.execute_input": "2023-02-27T20:35:27.736958Z",
     "iopub.status.busy": "2023-02-27T20:35:27.735567Z",
     "iopub.status.idle": "2023-02-27T20:35:27.761193Z",
     "shell.execute_reply": "2023-02-27T20:35:27.759961Z"
    },
    "papermill": {
     "duration": 0.033805,
     "end_time": "2023-02-27T20:35:27.764233",
     "exception": false,
     "start_time": "2023-02-27T20:35:27.730428",
     "status": "completed"
    },
    "tags": []
   },
   "outputs": [
    {
     "name": "stdout",
     "output_type": "stream",
     "text": [
      "/kaggle/input/dota-2-matches/players.csv\n",
      "/kaggle/input/dota-2-matches/ability_upgrades.csv\n",
      "/kaggle/input/dota-2-matches/test_player.csv\n",
      "/kaggle/input/dota-2-matches/match_outcomes.csv\n",
      "/kaggle/input/dota-2-matches/teamfights_players.csv\n",
      "/kaggle/input/dota-2-matches/chat.csv\n",
      "/kaggle/input/dota-2-matches/purchase_log.csv\n",
      "/kaggle/input/dota-2-matches/test_labels.csv\n",
      "/kaggle/input/dota-2-matches/ability_ids.csv\n",
      "/kaggle/input/dota-2-matches/item_ids.csv\n",
      "/kaggle/input/dota-2-matches/player_time.csv\n",
      "/kaggle/input/dota-2-matches/patch_dates.csv\n",
      "/kaggle/input/dota-2-matches/yasp_sample.json\n",
      "/kaggle/input/dota-2-matches/match.csv\n",
      "/kaggle/input/dota-2-matches/player_ratings.csv\n",
      "/kaggle/input/dota-2-matches/hero_names.csv\n",
      "/kaggle/input/dota-2-matches/cluster_regions.csv\n",
      "/kaggle/input/dota-2-matches/teamfights.csv\n",
      "/kaggle/input/dota-2-matches/objectives.csv\n"
     ]
    }
   ],
   "source": [
    "# This Python 3 environment comes with many helpful analytics libraries installed\n",
    "# It is defined by the kaggle/python Docker image: https://github.com/kaggle/docker-python\n",
    "# For example, here's several helpful packages to load\n",
    "\n",
    "import numpy as np # linear algebra\n",
    "import pandas as pd # data processing, CSV file I/O (e.g. pd.read_csv)\n",
    "\n",
    "# Input data files are available in the read-only \"../input/\" directory\n",
    "# For example, running this (by clicking run or pressing Shift+Enter) will list all files under the input directory\n",
    "\n",
    "import os\n",
    "for dirname, _, filenames in os.walk('/kaggle/input'):\n",
    "    for filename in filenames:\n",
    "        print(os.path.join(dirname, filename))\n",
    "\n",
    "# You can write up to 20GB to the current directory (/kaggle/working/) that gets preserved as output when you create a version using \"Save & Run All\" \n",
    "# You can also write temporary files to /kaggle/temp/, but they won't be saved outside of the current session"
   ]
  },
  {
   "cell_type": "markdown",
   "id": "c9546226",
   "metadata": {
    "papermill": {
     "duration": 0.001785,
     "end_time": "2023-02-27T20:35:27.768568",
     "exception": false,
     "start_time": "2023-02-27T20:35:27.766783",
     "status": "completed"
    },
    "tags": []
   },
   "source": [
    "The first question I want to answer is: Can we predict the match outcome based on the aggregates of heroes in the match?\n",
    "\n",
    "To start we are going to read in the data, and start to combine the CSVs to get information about a single match. "
   ]
  },
  {
   "cell_type": "code",
   "execution_count": 2,
   "id": "80a4e2ac",
   "metadata": {
    "execution": {
     "iopub.execute_input": "2023-02-27T20:35:27.775026Z",
     "iopub.status.busy": "2023-02-27T20:35:27.774343Z",
     "iopub.status.idle": "2023-02-27T20:35:35.645265Z",
     "shell.execute_reply": "2023-02-27T20:35:35.644072Z"
    },
    "papermill": {
     "duration": 7.877511,
     "end_time": "2023-02-27T20:35:35.648012",
     "exception": false,
     "start_time": "2023-02-27T20:35:27.770501",
     "status": "completed"
    },
    "tags": []
   },
   "outputs": [
    {
     "data": {
      "text/html": [
       "<div>\n",
       "<style scoped>\n",
       "    .dataframe tbody tr th:only-of-type {\n",
       "        vertical-align: middle;\n",
       "    }\n",
       "\n",
       "    .dataframe tbody tr th {\n",
       "        vertical-align: top;\n",
       "    }\n",
       "\n",
       "    .dataframe thead th {\n",
       "        text-align: right;\n",
       "    }\n",
       "</style>\n",
       "<table border=\"1\" class=\"dataframe\">\n",
       "  <thead>\n",
       "    <tr style=\"text-align: right;\">\n",
       "      <th></th>\n",
       "      <th>dire_heros</th>\n",
       "      <th>radiant_heros</th>\n",
       "      <th>radiant_win</th>\n",
       "    </tr>\n",
       "    <tr>\n",
       "      <th>match_id</th>\n",
       "      <th></th>\n",
       "      <th></th>\n",
       "      <th></th>\n",
       "    </tr>\n",
       "  </thead>\n",
       "  <tbody>\n",
       "    <tr>\n",
       "      <th>0</th>\n",
       "      <td>[106, 102, 46, 7, 73]</td>\n",
       "      <td>[86, 51, 83, 11, 67]</td>\n",
       "      <td>True</td>\n",
       "    </tr>\n",
       "    <tr>\n",
       "      <th>1</th>\n",
       "      <td>[73, 22, 5, 67, 106]</td>\n",
       "      <td>[7, 82, 71, 39, 21]</td>\n",
       "      <td>False</td>\n",
       "    </tr>\n",
       "    <tr>\n",
       "      <th>2</th>\n",
       "      <td>[38, 7, 10, 12, 85]</td>\n",
       "      <td>[51, 109, 9, 41, 27]</td>\n",
       "      <td>False</td>\n",
       "    </tr>\n",
       "    <tr>\n",
       "      <th>3</th>\n",
       "      <td>[78, 19, 31, 40, 47]</td>\n",
       "      <td>[50, 44, 32, 26, 39]</td>\n",
       "      <td>False</td>\n",
       "    </tr>\n",
       "    <tr>\n",
       "      <th>4</th>\n",
       "      <td>[101, 100, 22, 67, 21]</td>\n",
       "      <td>[8, 39, 55, 87, 69]</td>\n",
       "      <td>True</td>\n",
       "    </tr>\n",
       "    <tr>\n",
       "      <th>...</th>\n",
       "      <td>...</td>\n",
       "      <td>...</td>\n",
       "      <td>...</td>\n",
       "    </tr>\n",
       "    <tr>\n",
       "      <th>49995</th>\n",
       "      <td>[32, 7, 109, 35, 112]</td>\n",
       "      <td>[73, 86, 21, 20, 14]</td>\n",
       "      <td>True</td>\n",
       "    </tr>\n",
       "    <tr>\n",
       "      <th>49996</th>\n",
       "      <td>[36, 1, 112, 60, 71]</td>\n",
       "      <td>[93, 74, 100, 32, 85]</td>\n",
       "      <td>True</td>\n",
       "    </tr>\n",
       "    <tr>\n",
       "      <th>49997</th>\n",
       "      <td>[28, 102, 21, 9, 23]</td>\n",
       "      <td>[100, 68, 75, 39, 44]</td>\n",
       "      <td>True</td>\n",
       "    </tr>\n",
       "    <tr>\n",
       "      <th>49998</th>\n",
       "      <td>[46, 7, 29, 44, 3]</td>\n",
       "      <td>[56, 50, 2, 72, 30]</td>\n",
       "      <td>True</td>\n",
       "    </tr>\n",
       "    <tr>\n",
       "      <th>49999</th>\n",
       "      <td>[100, 9, 90, 73, 53]</td>\n",
       "      <td>[94, 19, 68, 35, 21]</td>\n",
       "      <td>False</td>\n",
       "    </tr>\n",
       "  </tbody>\n",
       "</table>\n",
       "<p>50000 rows × 3 columns</p>\n",
       "</div>"
      ],
      "text/plain": [
       "                      dire_heros          radiant_heros  radiant_win\n",
       "match_id                                                            \n",
       "0          [106, 102, 46, 7, 73]   [86, 51, 83, 11, 67]         True\n",
       "1           [73, 22, 5, 67, 106]    [7, 82, 71, 39, 21]        False\n",
       "2            [38, 7, 10, 12, 85]   [51, 109, 9, 41, 27]        False\n",
       "3           [78, 19, 31, 40, 47]   [50, 44, 32, 26, 39]        False\n",
       "4         [101, 100, 22, 67, 21]    [8, 39, 55, 87, 69]         True\n",
       "...                          ...                    ...          ...\n",
       "49995      [32, 7, 109, 35, 112]   [73, 86, 21, 20, 14]         True\n",
       "49996       [36, 1, 112, 60, 71]  [93, 74, 100, 32, 85]         True\n",
       "49997       [28, 102, 21, 9, 23]  [100, 68, 75, 39, 44]         True\n",
       "49998         [46, 7, 29, 44, 3]    [56, 50, 2, 72, 30]         True\n",
       "49999       [100, 9, 90, 73, 53]   [94, 19, 68, 35, 21]        False\n",
       "\n",
       "[50000 rows x 3 columns]"
      ]
     },
     "execution_count": 2,
     "metadata": {},
     "output_type": "execute_result"
    }
   ],
   "source": [
    "#Each match has one entry, in this case we are focused on match_id, and radiant_win only as our target.\n",
    "columnsWeWant = ['match_id','radiant_win']\n",
    "match = pd.read_csv('/kaggle/input/dota-2-matches/match.csv')\n",
    "match = match[columnsWeWant]\n",
    "\n",
    "#We are only intrested in this case on the hero_id and match_id, and player_slot. Note that: Player_slot: 0-4 are Radiant, 128-132 are Dire\n",
    "columnsWeWant = ['match_id','hero_id','player_slot']\n",
    "players = pd.read_csv('/kaggle/input/dota-2-matches/players.csv')\n",
    "players = players[columnsWeWant]\n",
    "\n",
    "#Change from players_slot to boolean for radiant team or not\n",
    "players[\"radiant\"] = (players['player_slot'] < 5)\n",
    "\n",
    "#Groups by match id and radiant boolean, and for each will combine hero_id into a list\n",
    "combinedHeroID = players.groupby(['match_id','radiant']).hero_id.apply(lambda x: x.tolist())\n",
    "\n",
    "#We unstack so that we can get the team lists for each match_id into columns instead of a row for each match_id\n",
    "combinedHeroID = combinedHeroID.unstack()\n",
    "\n",
    "#We rename the columns to make more sense\n",
    "combinedHeroID.columns = ['dire_heros','radiant_heros']\n",
    "\n",
    "#Here we merge the two DataFrames together on the match_id columns, and make the match_id the index\n",
    "merged = combinedHeroID.merge(match,left_on='match_id',right_on='match_id')\n",
    "merged = merged.set_index('match_id')\n",
    "\n",
    "merged"
   ]
  },
  {
   "cell_type": "code",
   "execution_count": 3,
   "id": "0cb35261",
   "metadata": {
    "execution": {
     "iopub.execute_input": "2023-02-27T20:35:35.656502Z",
     "iopub.status.busy": "2023-02-27T20:35:35.654286Z",
     "iopub.status.idle": "2023-02-27T20:35:35.661240Z",
     "shell.execute_reply": "2023-02-27T20:35:35.659809Z"
    },
    "papermill": {
     "duration": 0.013085,
     "end_time": "2023-02-27T20:35:35.663662",
     "exception": false,
     "start_time": "2023-02-27T20:35:35.650577",
     "status": "completed"
    },
    "tags": []
   },
   "outputs": [],
   "source": [
    "#Here we start making the Machine Learning Model"
   ]
  }
 ],
 "metadata": {
  "kernelspec": {
   "display_name": "Python 3",
   "language": "python",
   "name": "python3"
  },
  "language_info": {
   "codemirror_mode": {
    "name": "ipython",
    "version": 3
   },
   "file_extension": ".py",
   "mimetype": "text/x-python",
   "name": "python",
   "nbconvert_exporter": "python",
   "pygments_lexer": "ipython3",
   "version": "3.7.12"
  },
  "papermill": {
   "default_parameters": {},
   "duration": 18.273583,
   "end_time": "2023-02-27T20:35:36.389481",
   "environment_variables": {},
   "exception": null,
   "input_path": "__notebook__.ipynb",
   "output_path": "__notebook__.ipynb",
   "parameters": {},
   "start_time": "2023-02-27T20:35:18.115898",
   "version": "2.3.4"
  }
 },
 "nbformat": 4,
 "nbformat_minor": 5
}
