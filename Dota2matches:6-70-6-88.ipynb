{
 "cells": [
  {
   "cell_type": "code",
   "execution_count": 1,
   "id": "bb2499e9",
   "metadata": {
    "_cell_guid": "b1076dfc-b9ad-4769-8c92-a6c4dae69d19",
    "_uuid": "8f2839f25d086af736a60e9eeb907d3b93b6e0e5",
    "execution": {
     "iopub.execute_input": "2023-02-21T18:50:05.445701Z",
     "iopub.status.busy": "2023-02-21T18:50:05.445217Z",
     "iopub.status.idle": "2023-02-21T18:50:05.476119Z",
     "shell.execute_reply": "2023-02-21T18:50:05.474895Z"
    },
    "papermill": {
     "duration": 0.039429,
     "end_time": "2023-02-21T18:50:05.479559",
     "exception": false,
     "start_time": "2023-02-21T18:50:05.440130",
     "status": "completed"
    },
    "tags": []
   },
   "outputs": [
    {
     "name": "stdout",
     "output_type": "stream",
     "text": [
      "/kaggle/input/dota-2-matches/players.csv\n",
      "/kaggle/input/dota-2-matches/ability_upgrades.csv\n",
      "/kaggle/input/dota-2-matches/test_player.csv\n",
      "/kaggle/input/dota-2-matches/match_outcomes.csv\n",
      "/kaggle/input/dota-2-matches/teamfights_players.csv\n",
      "/kaggle/input/dota-2-matches/chat.csv\n",
      "/kaggle/input/dota-2-matches/purchase_log.csv\n",
      "/kaggle/input/dota-2-matches/test_labels.csv\n",
      "/kaggle/input/dota-2-matches/ability_ids.csv\n",
      "/kaggle/input/dota-2-matches/item_ids.csv\n",
      "/kaggle/input/dota-2-matches/player_time.csv\n",
      "/kaggle/input/dota-2-matches/patch_dates.csv\n",
      "/kaggle/input/dota-2-matches/yasp_sample.json\n",
      "/kaggle/input/dota-2-matches/match.csv\n",
      "/kaggle/input/dota-2-matches/player_ratings.csv\n",
      "/kaggle/input/dota-2-matches/hero_names.csv\n",
      "/kaggle/input/dota-2-matches/cluster_regions.csv\n",
      "/kaggle/input/dota-2-matches/teamfights.csv\n",
      "/kaggle/input/dota-2-matches/objectives.csv\n"
     ]
    }
   ],
   "source": [
    "# This Python 3 environment comes with many helpful analytics libraries installed\n",
    "# It is defined by the kaggle/python Docker image: https://github.com/kaggle/docker-python\n",
    "# For example, here's several helpful packages to load\n",
    "\n",
    "import numpy as np # linear algebra\n",
    "import pandas as pd # data processing, CSV file I/O (e.g. pd.read_csv)\n",
    "\n",
    "# Input data files are available in the read-only \"../input/\" directory\n",
    "# For example, running this (by clicking run or pressing Shift+Enter) will list all files under the input directory\n",
    "\n",
    "import os\n",
    "for dirname, _, filenames in os.walk('/kaggle/input'):\n",
    "    for filename in filenames:\n",
    "        print(os.path.join(dirname, filename))\n",
    "\n",
    "# You can write up to 20GB to the current directory (/kaggle/working/) that gets preserved as output when you create a version using \"Save & Run All\" \n",
    "# You can also write temporary files to /kaggle/temp/, but they won't be saved outside of the current session"
   ]
  },
  {
   "cell_type": "markdown",
   "id": "377db8b8",
   "metadata": {
    "papermill": {
     "duration": 0.001484,
     "end_time": "2023-02-21T18:50:05.483321",
     "exception": false,
     "start_time": "2023-02-21T18:50:05.481837",
     "status": "completed"
    },
    "tags": []
   },
   "source": [
    "The first question I want to answer is: Can we predict the match outcome based on the aggregates of heroes in the match?\n",
    "\n",
    "To start we are going to read in the data, and start to combine the CSVs to get information about a single match. "
   ]
  },
  {
   "cell_type": "code",
   "execution_count": null,
   "id": "2d452f1f",
   "metadata": {
    "papermill": {
     "duration": 0.001397,
     "end_time": "2023-02-21T18:50:05.486366",
     "exception": false,
     "start_time": "2023-02-21T18:50:05.484969",
     "status": "completed"
    },
    "tags": []
   },
   "outputs": [],
   "source": []
  }
 ],
 "metadata": {
  "kernelspec": {
   "display_name": "Python 3",
   "language": "python",
   "name": "python3"
  },
  "language_info": {
   "codemirror_mode": {
    "name": "ipython",
    "version": 3
   },
   "file_extension": ".py",
   "mimetype": "text/x-python",
   "name": "python",
   "nbconvert_exporter": "python",
   "pygments_lexer": "ipython3",
   "version": "3.7.12"
  },
  "papermill": {
   "default_parameters": {},
   "duration": 8.983872,
   "end_time": "2023-02-21T18:50:06.110306",
   "environment_variables": {},
   "exception": null,
   "input_path": "__notebook__.ipynb",
   "output_path": "__notebook__.ipynb",
   "parameters": {},
   "start_time": "2023-02-21T18:49:57.126434",
   "version": "2.3.4"
  }
 },
 "nbformat": 4,
 "nbformat_minor": 5
}
