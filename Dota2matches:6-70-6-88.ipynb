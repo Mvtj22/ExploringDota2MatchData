{
 "cells": [
  {
   "cell_type": "code",
   "execution_count": 1,
   "id": "7c96f8f7",
   "metadata": {
    "_cell_guid": "b1076dfc-b9ad-4769-8c92-a6c4dae69d19",
    "_uuid": "8f2839f25d086af736a60e9eeb907d3b93b6e0e5",
    "execution": {
     "iopub.execute_input": "2023-02-21T19:22:49.019721Z",
     "iopub.status.busy": "2023-02-21T19:22:49.018981Z",
     "iopub.status.idle": "2023-02-21T19:22:49.045719Z",
     "shell.execute_reply": "2023-02-21T19:22:49.044232Z"
    },
    "papermill": {
     "duration": 0.037028,
     "end_time": "2023-02-21T19:22:49.049924",
     "exception": false,
     "start_time": "2023-02-21T19:22:49.012896",
     "status": "completed"
    },
    "tags": []
   },
   "outputs": [
    {
     "name": "stdout",
     "output_type": "stream",
     "text": [
      "/kaggle/input/dota-2-matches/players.csv\n",
      "/kaggle/input/dota-2-matches/ability_upgrades.csv\n",
      "/kaggle/input/dota-2-matches/test_player.csv\n",
      "/kaggle/input/dota-2-matches/match_outcomes.csv\n",
      "/kaggle/input/dota-2-matches/teamfights_players.csv\n",
      "/kaggle/input/dota-2-matches/chat.csv\n",
      "/kaggle/input/dota-2-matches/purchase_log.csv\n",
      "/kaggle/input/dota-2-matches/test_labels.csv\n",
      "/kaggle/input/dota-2-matches/ability_ids.csv\n",
      "/kaggle/input/dota-2-matches/item_ids.csv\n",
      "/kaggle/input/dota-2-matches/player_time.csv\n",
      "/kaggle/input/dota-2-matches/patch_dates.csv\n",
      "/kaggle/input/dota-2-matches/yasp_sample.json\n",
      "/kaggle/input/dota-2-matches/match.csv\n",
      "/kaggle/input/dota-2-matches/player_ratings.csv\n",
      "/kaggle/input/dota-2-matches/hero_names.csv\n",
      "/kaggle/input/dota-2-matches/cluster_regions.csv\n",
      "/kaggle/input/dota-2-matches/teamfights.csv\n",
      "/kaggle/input/dota-2-matches/objectives.csv\n"
     ]
    }
   ],
   "source": [
    "# This Python 3 environment comes with many helpful analytics libraries installed\n",
    "# It is defined by the kaggle/python Docker image: https://github.com/kaggle/docker-python\n",
    "# For example, here's several helpful packages to load\n",
    "\n",
    "import numpy as np # linear algebra\n",
    "import pandas as pd # data processing, CSV file I/O (e.g. pd.read_csv)\n",
    "\n",
    "# Input data files are available in the read-only \"../input/\" directory\n",
    "# For example, running this (by clicking run or pressing Shift+Enter) will list all files under the input directory\n",
    "\n",
    "import os\n",
    "for dirname, _, filenames in os.walk('/kaggle/input'):\n",
    "    for filename in filenames:\n",
    "        print(os.path.join(dirname, filename))\n",
    "\n",
    "# You can write up to 20GB to the current directory (/kaggle/working/) that gets preserved as output when you create a version using \"Save & Run All\" \n",
    "# You can also write temporary files to /kaggle/temp/, but they won't be saved outside of the current session"
   ]
  },
  {
   "cell_type": "markdown",
   "id": "4bf9dd0c",
   "metadata": {
    "papermill": {
     "duration": 0.002287,
     "end_time": "2023-02-21T19:22:49.055308",
     "exception": false,
     "start_time": "2023-02-21T19:22:49.053021",
     "status": "completed"
    },
    "tags": []
   },
   "source": [
    "The first question I want to answer is: Can we predict the match outcome based on the aggregates of heroes in the match?\n",
    "\n",
    "To start we are going to read in the data, and start to combine the CSVs to get information about a single match. "
   ]
  },
  {
   "cell_type": "code",
   "execution_count": 2,
   "id": "0aeec374",
   "metadata": {
    "execution": {
     "iopub.execute_input": "2023-02-21T19:22:49.062708Z",
     "iopub.status.busy": "2023-02-21T19:22:49.062239Z",
     "iopub.status.idle": "2023-02-21T19:22:49.210533Z",
     "shell.execute_reply": "2023-02-21T19:22:49.208845Z"
    },
    "papermill": {
     "duration": 0.155725,
     "end_time": "2023-02-21T19:22:49.213588",
     "exception": false,
     "start_time": "2023-02-21T19:22:49.057863",
     "status": "completed"
    },
    "tags": []
   },
   "outputs": [
    {
     "data": {
      "text/html": [
       "<div>\n",
       "<style scoped>\n",
       "    .dataframe tbody tr th:only-of-type {\n",
       "        vertical-align: middle;\n",
       "    }\n",
       "\n",
       "    .dataframe tbody tr th {\n",
       "        vertical-align: top;\n",
       "    }\n",
       "\n",
       "    .dataframe thead th {\n",
       "        text-align: right;\n",
       "    }\n",
       "</style>\n",
       "<table border=\"1\" class=\"dataframe\">\n",
       "  <thead>\n",
       "    <tr style=\"text-align: right;\">\n",
       "      <th></th>\n",
       "      <th>match_id</th>\n",
       "      <th>radiant_win</th>\n",
       "    </tr>\n",
       "  </thead>\n",
       "  <tbody>\n",
       "    <tr>\n",
       "      <th>0</th>\n",
       "      <td>0</td>\n",
       "      <td>True</td>\n",
       "    </tr>\n",
       "    <tr>\n",
       "      <th>1</th>\n",
       "      <td>1</td>\n",
       "      <td>False</td>\n",
       "    </tr>\n",
       "    <tr>\n",
       "      <th>2</th>\n",
       "      <td>2</td>\n",
       "      <td>False</td>\n",
       "    </tr>\n",
       "    <tr>\n",
       "      <th>3</th>\n",
       "      <td>3</td>\n",
       "      <td>False</td>\n",
       "    </tr>\n",
       "    <tr>\n",
       "      <th>4</th>\n",
       "      <td>4</td>\n",
       "      <td>True</td>\n",
       "    </tr>\n",
       "    <tr>\n",
       "      <th>5</th>\n",
       "      <td>5</td>\n",
       "      <td>True</td>\n",
       "    </tr>\n",
       "    <tr>\n",
       "      <th>6</th>\n",
       "      <td>6</td>\n",
       "      <td>True</td>\n",
       "    </tr>\n",
       "    <tr>\n",
       "      <th>7</th>\n",
       "      <td>7</td>\n",
       "      <td>True</td>\n",
       "    </tr>\n",
       "    <tr>\n",
       "      <th>8</th>\n",
       "      <td>8</td>\n",
       "      <td>False</td>\n",
       "    </tr>\n",
       "    <tr>\n",
       "      <th>9</th>\n",
       "      <td>9</td>\n",
       "      <td>False</td>\n",
       "    </tr>\n",
       "  </tbody>\n",
       "</table>\n",
       "</div>"
      ],
      "text/plain": [
       "   match_id  radiant_win\n",
       "0         0         True\n",
       "1         1        False\n",
       "2         2        False\n",
       "3         3        False\n",
       "4         4         True\n",
       "5         5         True\n",
       "6         6         True\n",
       "7         7         True\n",
       "8         8        False\n",
       "9         9        False"
      ]
     },
     "execution_count": 2,
     "metadata": {},
     "output_type": "execute_result"
    }
   ],
   "source": [
    "#Each match has one entry, in this case we are focused on match_id, and radiant_win only as our target.\n",
    "columnsWeWant = ['match_id','radiant_win']\n",
    "match = pd.read_csv('/kaggle/input/dota-2-matches/match.csv')\n",
    "match = match[columnsWeWant]\n",
    "match.head(10)"
   ]
  },
  {
   "cell_type": "code",
   "execution_count": 3,
   "id": "1779bf0d",
   "metadata": {
    "execution": {
     "iopub.execute_input": "2023-02-21T19:22:49.221291Z",
     "iopub.status.busy": "2023-02-21T19:22:49.220796Z",
     "iopub.status.idle": "2023-02-21T19:22:54.913226Z",
     "shell.execute_reply": "2023-02-21T19:22:54.911520Z"
    },
    "papermill": {
     "duration": 5.699749,
     "end_time": "2023-02-21T19:22:54.916260",
     "exception": false,
     "start_time": "2023-02-21T19:22:49.216511",
     "status": "completed"
    },
    "tags": []
   },
   "outputs": [
    {
     "data": {
      "text/html": [
       "<div>\n",
       "<style scoped>\n",
       "    .dataframe tbody tr th:only-of-type {\n",
       "        vertical-align: middle;\n",
       "    }\n",
       "\n",
       "    .dataframe tbody tr th {\n",
       "        vertical-align: top;\n",
       "    }\n",
       "\n",
       "    .dataframe thead th {\n",
       "        text-align: right;\n",
       "    }\n",
       "</style>\n",
       "<table border=\"1\" class=\"dataframe\">\n",
       "  <thead>\n",
       "    <tr style=\"text-align: right;\">\n",
       "      <th></th>\n",
       "      <th>match_id</th>\n",
       "      <th>hero_id</th>\n",
       "      <th>player_slot</th>\n",
       "    </tr>\n",
       "  </thead>\n",
       "  <tbody>\n",
       "    <tr>\n",
       "      <th>0</th>\n",
       "      <td>0</td>\n",
       "      <td>86</td>\n",
       "      <td>0</td>\n",
       "    </tr>\n",
       "    <tr>\n",
       "      <th>1</th>\n",
       "      <td>0</td>\n",
       "      <td>51</td>\n",
       "      <td>1</td>\n",
       "    </tr>\n",
       "    <tr>\n",
       "      <th>2</th>\n",
       "      <td>0</td>\n",
       "      <td>83</td>\n",
       "      <td>2</td>\n",
       "    </tr>\n",
       "    <tr>\n",
       "      <th>3</th>\n",
       "      <td>0</td>\n",
       "      <td>11</td>\n",
       "      <td>3</td>\n",
       "    </tr>\n",
       "    <tr>\n",
       "      <th>4</th>\n",
       "      <td>0</td>\n",
       "      <td>67</td>\n",
       "      <td>4</td>\n",
       "    </tr>\n",
       "    <tr>\n",
       "      <th>5</th>\n",
       "      <td>0</td>\n",
       "      <td>106</td>\n",
       "      <td>128</td>\n",
       "    </tr>\n",
       "    <tr>\n",
       "      <th>6</th>\n",
       "      <td>0</td>\n",
       "      <td>102</td>\n",
       "      <td>129</td>\n",
       "    </tr>\n",
       "    <tr>\n",
       "      <th>7</th>\n",
       "      <td>0</td>\n",
       "      <td>46</td>\n",
       "      <td>130</td>\n",
       "    </tr>\n",
       "    <tr>\n",
       "      <th>8</th>\n",
       "      <td>0</td>\n",
       "      <td>7</td>\n",
       "      <td>131</td>\n",
       "    </tr>\n",
       "    <tr>\n",
       "      <th>9</th>\n",
       "      <td>0</td>\n",
       "      <td>73</td>\n",
       "      <td>132</td>\n",
       "    </tr>\n",
       "  </tbody>\n",
       "</table>\n",
       "</div>"
      ],
      "text/plain": [
       "   match_id  hero_id  player_slot\n",
       "0         0       86            0\n",
       "1         0       51            1\n",
       "2         0       83            2\n",
       "3         0       11            3\n",
       "4         0       67            4\n",
       "5         0      106          128\n",
       "6         0      102          129\n",
       "7         0       46          130\n",
       "8         0        7          131\n",
       "9         0       73          132"
      ]
     },
     "execution_count": 3,
     "metadata": {},
     "output_type": "execute_result"
    }
   ],
   "source": [
    "#We are only intrested in this case on the hero_id and match_id, and player_slot. Note that: Player_slot: 0-4 are Radiant, 128-132 are Dire\n",
    "columnsWeWant = ['match_id','hero_id','player_slot']\n",
    "players = pd.read_csv('/kaggle/input/dota-2-matches/players.csv')\n",
    "players = players[columnsWeWant]\n",
    "players.head(10)\n",
    "\n"
   ]
  },
  {
   "cell_type": "code",
   "execution_count": 4,
   "id": "2a827683",
   "metadata": {
    "execution": {
     "iopub.execute_input": "2023-02-21T19:22:54.925897Z",
     "iopub.status.busy": "2023-02-21T19:22:54.925377Z",
     "iopub.status.idle": "2023-02-21T19:22:54.930969Z",
     "shell.execute_reply": "2023-02-21T19:22:54.929929Z"
    },
    "papermill": {
     "duration": 0.01328,
     "end_time": "2023-02-21T19:22:54.933441",
     "exception": false,
     "start_time": "2023-02-21T19:22:54.920161",
     "status": "completed"
    },
    "tags": []
   },
   "outputs": [],
   "source": [
    "#We now merge the two tables above to get all 10 hero_id for each match_id, we also note which of these heroes lost and won. "
   ]
  }
 ],
 "metadata": {
  "kernelspec": {
   "display_name": "Python 3",
   "language": "python",
   "name": "python3"
  },
  "language_info": {
   "codemirror_mode": {
    "name": "ipython",
    "version": 3
   },
   "file_extension": ".py",
   "mimetype": "text/x-python",
   "name": "python",
   "nbconvert_exporter": "python",
   "pygments_lexer": "ipython3",
   "version": "3.7.12"
  },
  "papermill": {
   "default_parameters": {},
   "duration": 16.503253,
   "end_time": "2023-02-21T19:22:55.764399",
   "environment_variables": {},
   "exception": null,
   "input_path": "__notebook__.ipynb",
   "output_path": "__notebook__.ipynb",
   "parameters": {},
   "start_time": "2023-02-21T19:22:39.261146",
   "version": "2.3.4"
  }
 },
 "nbformat": 4,
 "nbformat_minor": 5
}
